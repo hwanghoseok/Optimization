{
 "cells": [
  {
   "cell_type": "markdown",
   "metadata": {},
   "source": [
    "### Optimization - QCQP, barrier method"
   ]
  },
  {
   "cell_type": "markdown",
   "metadata": {},
   "source": [
    "##### 1.다음과 같은 QCQP 형태의 최적화 문제를 고려.\n",
    "##### $\\text{minimize}_x \\quad \\frac{1}{2}x^TQx + p^Tx $ \n",
    "##### $\\text{s.t} \\quad Ax = b, \n",
    "##### $\\text{s.t} \\quad \\frac{1}{2}x^TQ_ix + p_{i}^{T}x \\leq 0  \\quad i = 1, \\dots , m$"
   ]
  },
  {
   "cell_type": "markdown",
   "metadata": {},
   "source": [
    "##### 위의 부등제약 조건을 아래와 같이 지시함수 형태로 포함, 여전히 boundary를 가지고 잇고, 미분 불가능 하기 때문에 계산상 어려움 존재 \n",
    "##### $C = \\{x:\\frac{1}{2}x^TQ_ix + p_{i}^{T}x \\leq 0 \\quad i = 1, \\dots , m\\}$"
   ]
  },
  {
   "cell_type": "markdown",
   "metadata": {},
   "source": [
    "##### $\\text{minimize}_x \\quad \\frac{1}{2}x^TQx + p^Tx + I_c(x)$ \n",
    "##### 해결) barrier function을 이용해 boundary 포함하지않고, 미분가능 하게해서 newton's method 적용"
   ]
  },
  {
   "cell_type": "markdown",
   "metadata": {},
   "source": [
    "##### 2.logarithmic barrier function 구하기\n",
    "##### $h_i(x)=\\frac{1}{2}x^TQ_ix + p_{i}^{T}x 라고 하자.$ -> convex이고, 두번 미분가능\n",
    "##### $\\phi(x)= -\\sum_{i=1}^{m}log(-h_i(x))$ -> logarithmic barrier function"
   ]
  },
  {
   "cell_type": "markdown",
   "metadata": {},
   "source": [
    "##### 3.barrier function을 적용 시킨 최적화 문제.\n",
    "##### $\\text{minimize}_x \\quad t(\\frac{1}{2}x^TQx + p^Tx) + \\phi(x)$ \n",
    "##### $\\text{s.t} \\quad Ax = b$\n",
    "##### 이와 같이 근사해서 정의된 문제를 newton's method로 푸는 방법을 barrier method라고 함."
   ]
  },
  {
   "cell_type": "code",
   "execution_count": 45,
   "metadata": {},
   "outputs": [],
   "source": [
    "import numpy as np\n",
    "import matplotlib.pyplot as plt"
   ]
  },
  {
   "cell_type": "code",
   "execution_count": 60,
   "metadata": {},
   "outputs": [],
   "source": [
    "\n",
    "def log_barrier(x):\n",
    "    \"\"\" x에서 logarithmic barrier function\n",
    "    \"\"\"\n",
    "    x = - np.sum(np.log(-x))\n",
    "    return x\n",
    "\n",
    "\n",
    "def function(x, Q, p, t):\n",
    "    \"\"\" function = t(1/2*xTQx + pTx) + phi(x)\n",
    "    Q, p : 쿼드라틱 폼의 메트릭스\n",
    "    st. Ax = b\n",
    "    \"\"\"\n",
    "    x = t * (1/2*np.dot(x.T, Q.dot(x)) + np.dot(p.T,x)) + log_barrier(1/2*np.dot(x.T, Q.dot(x)) + np.dot(p.T,x))\n",
    "    return x\n",
    "\n"
   ]
  },
  {
   "cell_type": "markdown",
   "metadata": {},
   "source": [
    "##### log barrier 계산.\n",
    "##### $h_i(x)=\\frac{1}{2}x^TQ_ix + p_{i}^{T}x$ \n",
    "##### $\\phi(x)= -\\sum_{i=1}^{m}log(-h_i(x))$ \n",
    "##### gradient: $\\bigtriangledown \\phi(x) = - \\sum_{i=1}^{m} \\frac{1}{h_i(x)}\\bigtriangledown h_i(x)$\n",
    "##### Hessian: $\\bigtriangledown^2 \\phi(x) = \\sum_{i=1}^{m} \\frac{1}{h_i(x)^2}\\bigtriangledown h_i(x)\\bigtriangledown h_i(x)^T - \\sum_{i=1}^{m} \\frac{1}{h_i(x)}\\bigtriangledown^2 h_i(x) $"
   ]
  },
  {
   "cell_type": "code",
   "execution_count": 63,
   "metadata": {},
   "outputs": [],
   "source": [
    "\n",
    "def grad(x, t, Q, p):\n",
    "    \"\"\" function = t(1/2*xTQx + pTx) + phi(x) 의 gradient\n",
    "    st. Ax = b\n",
    "    \"\"\"\n",
    "    x = t*(Q.dot(x) + p) - np.sum(np.divide(Q.dot(x) + p, 1/2*np.dot(x.T, Q.dot(x)) + np.dot(p.T,x)), axis = 1)\n",
    "    \n",
    "    return x\n",
    "\n",
    "def hess(x, t, Q, p):\n",
    "    \"\"\" function = t(1/2*xTQx + pTx) + phi(x) 의 헤시안\n",
    "    st. Ax = b\n",
    "    \"\"\"\n",
    "    x = t*Q + np.sum(np.divide(np.dot(Q.dot(x) + p, (Q.dot(x) + p).T), (1/2*np.dot(x.T, Q.dot(x)) + np.dot(p.T,x))^2), axis = 1) - np.sum(np.divide(Q, 1/2*np.dot(x.T, Q.dot(x)) + np.dot(p.T,x)), axis = 1)\n",
    "\n",
    "    return x\n"
   ]
  },
  {
   "cell_type": "markdown",
   "metadata": {},
   "source": [
    "##### $min_x \\quad tf(x) + \\phi(x)$\n",
    "##### $s.t \\quad Ax = b$"
   ]
  }
 ],
 "metadata": {
  "interpreter": {
   "hash": "3ddc9e21434b9ecfc9606e2895f7b76f8a1b37fd62762479223a6dfb4d4d2023"
  },
  "kernelspec": {
   "display_name": "Python 3.8.10 64-bit ('pyob': conda)",
   "language": "python",
   "name": "python3"
  },
  "language_info": {
   "codemirror_mode": {
    "name": "ipython",
    "version": 3
   },
   "file_extension": ".py",
   "mimetype": "text/x-python",
   "name": "python",
   "nbconvert_exporter": "python",
   "pygments_lexer": "ipython3",
   "version": "3.8.10"
  },
  "orig_nbformat": 4
 },
 "nbformat": 4,
 "nbformat_minor": 2
}
