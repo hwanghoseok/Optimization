{
 "cells": [
  {
   "cell_type": "markdown",
   "source": [
    "# Optimaization_Statistics - HW01\r\n",
    "## 황호석 (G202158009)"
   ],
   "metadata": {}
  },
  {
   "cell_type": "markdown",
   "source": [
    "## example.1 suppose that Aij Bjk are well defined"
   ],
   "metadata": {}
  },
  {
   "cell_type": "code",
   "execution_count": 1,
   "source": [
    "import numpy as np\r\n",
    "np.random.seed(1)\r\n",
    "i = 8\r\n",
    "j = 5\r\n",
    "k = 2\r\n",
    "\r\n",
    "A = np.random.normal(size = (i, j))\r\n",
    "B = np.random.normal(size = (j, k))\r\n",
    "\r\n",
    "print(A @ B)\r\n",
    "print((A @ B).shape)"
   ],
   "outputs": [
    {
     "output_type": "stream",
     "name": "stdout",
     "text": [
      "[[ 0.01777662 -3.86011842]\n",
      " [-0.86986343  5.99696392]\n",
      " [ 1.30529626 -4.68597173]\n",
      " [ 0.37331712  1.69203542]\n",
      " [-0.39416427  3.95140242]\n",
      " [ 0.18802039  0.75969531]\n",
      " [ 0.15219003 -1.80926589]\n",
      " [ 1.25519254  1.91492266]]\n",
      "(8, 2)\n"
     ]
    }
   ],
   "metadata": {}
  },
  {
   "cell_type": "markdown",
   "source": [
    "## example.2 tr(AC) = tr(CA)"
   ],
   "metadata": {}
  },
  {
   "cell_type": "code",
   "execution_count": 2,
   "source": [
    "\r\n",
    "np.random.seed(2)\r\n",
    "n = 4\r\n",
    "p = 3\r\n",
    "A = np.random.normal(size = (n, p)) # (4, 3)행렬\r\n",
    "C = np.random.normal(size = (p, n)) # (3, 4)행렬\r\n",
    "print(np.trace(A @ C)) \r\n",
    "print(np.trace(C @ A))  \r\n"
   ],
   "outputs": [
    {
     "output_type": "stream",
     "name": "stdout",
     "text": [
      "-2.7383748488564343\n",
      "-2.7383748488564343\n"
     ]
    }
   ],
   "metadata": {}
  },
  {
   "cell_type": "markdown",
   "source": [
    "## example.3 tr(A<sup>T</sup> * A) =∑i,j(A)<sup>2</sup>"
   ],
   "metadata": {}
  },
  {
   "cell_type": "code",
   "execution_count": 3,
   "source": [
    "\r\n",
    "print(np.trace(A.T @ A))\r\n",
    "print(np.sum(A ** 2))\r\n"
   ],
   "outputs": [
    {
     "output_type": "stream",
     "name": "stdout",
     "text": [
      "20.663133986126496\n",
      "20.663133986126493\n"
     ]
    }
   ],
   "metadata": {}
  },
  {
   "cell_type": "markdown",
   "source": [
    "## example.4 exp(x<sup>T</sup>Ax) = exp(tr(Axx<sup>T</sup>))"
   ],
   "metadata": {}
  },
  {
   "cell_type": "code",
   "execution_count": 7,
   "source": [
    "np.random.seed(4)\r\n",
    "n = 4\r\n",
    "x = np.random.normal(size = (n, 1)) # x는 (n, 1)벡터\r\n",
    "A = np.random.normal(size = (n, n))\r\n",
    "print(np.exp(x.T @ A @ x))\r\n",
    "print(np.exp(np.trace(A @ x @ x.T)))"
   ],
   "outputs": [
    {
     "output_type": "stream",
     "name": "stdout",
     "text": [
      "[[0.11724974]]\n",
      "0.11724974333230392\n"
     ]
    }
   ],
   "metadata": {}
  },
  {
   "cell_type": "markdown",
   "source": [
    "## example.5 If the inverse matrices exist,\r\n",
    "## • (AB)<sup>-1</sup> =B<sup>-1</sup>A<sup>-1</sup>\r\n",
    "## • (A<sup>T</sup>)<sup>-1</sup>= (A<sup>-1</sup>)<sup>T</sup>"
   ],
   "metadata": {}
  },
  {
   "cell_type": "code",
   "execution_count": 11,
   "source": [
    "\r\n",
    "n = 2\r\n",
    "A = np.random.normal(size = (n, n))\r\n",
    "B = np.random.normal(size = (n, n))\r\n",
    "\r\n",
    "print(np.linalg.inv(A @ B),'\\n') \r\n",
    "print(np.linalg.inv(B) @ np.linalg.inv(A),'\\n')\r\n",
    "\r\n",
    "print(np.linalg.inv(A.T),'\\n')\r\n",
    "print(np.linalg.inv(A).T)\r\n"
   ],
   "outputs": [
    {
     "output_type": "stream",
     "name": "stdout",
     "text": [
      "[[ 97.0523667  -62.40975437]\n",
      " [ 39.55427605 -25.84095706]] \n",
      "\n",
      "[[ 97.0523667  -62.40975437]\n",
      " [ 39.55427605 -25.84095706]] \n",
      "\n",
      "[[13.99369229  3.527101  ]\n",
      " [-9.33787777 -1.52166103]] \n",
      "\n",
      "[[13.99369229  3.527101  ]\n",
      " [-9.33787777 -1.52166103]]\n"
     ]
    }
   ],
   "metadata": {}
  },
  {
   "cell_type": "markdown",
   "source": [
    "## example.6 Shur's lemma\r\n"
   ],
   "metadata": {}
  },
  {
   "cell_type": "code",
   "execution_count": 64,
   "source": [
    "\r\n",
    "A = np.matrix('1 2 ; 3 4') # 2 * 2 \r\n",
    "B = np.matrix('3 6 9 ; 12 13 16') # 2 * 3\r\n",
    "C = np.matrix('9 5 ; 3 4 ; 2 7') # 3 * 2\r\n",
    "D = np.matrix('1 2 7; 3 4 21; 3 21 10') # 3 * 3\r\n",
    "\r\n",
    "M = np.bmat( [[A, B], [C, D]] )\r\n",
    "print(M.shape,'\\n') # 5 * 5 행렬\r\n",
    "M_inv = np.linalg.inv(M) # M 행렬의 역행렬\r\n",
    "AIV = np.linalg.inv(A) # A행렬의 역행렬\r\n",
    "\r\n",
    "print(AIV + AIV @ B @ np.linalg.inv(D - C @ AIV @ B) @ C @ AIV, '\\n') # M 역행렬의 [0:2, 0:2] 와 같음\r\n",
    "print(M_inv[0:2,0:2], '\\n')\r\n",
    "\r\n",
    "print(np.linalg.inv(D - C @ AIV @ B), '\\n') # M 역핼영릐 [2:5, 2:5]와 같음\r\n",
    "print(M_inv[2:5, 2:5], '\\n')\r\n"
   ],
   "outputs": [
    {
     "output_type": "stream",
     "name": "stdout",
     "text": [
      "(5, 5) \n",
      "\n",
      "[[ 1.12016974 -0.17027808]\n",
      " [-2.57078368  0.39256049]] \n",
      "\n",
      "[[ 1.12016974 -0.17027808]\n",
      " [-2.57078368  0.39256049]] \n",
      "\n",
      "[[-3.84615385e-02  8.69447454e-02  2.16684724e-02]\n",
      " [ 3.84615385e-02 -2.01968220e-01 -4.51426508e-02]\n",
      " [ 1.59591338e-18 -7.04225352e-03 -4.22535211e-02]] \n",
      "\n",
      "[[-3.84615385e-02  8.69447454e-02  2.16684724e-02]\n",
      " [ 3.84615385e-02 -2.01968220e-01 -4.51426508e-02]\n",
      " [-1.00857416e-17 -7.04225352e-03 -4.22535211e-02]] \n",
      "\n"
     ]
    }
   ],
   "metadata": {}
  }
 ],
 "metadata": {
  "orig_nbformat": 4,
  "language_info": {
   "name": "python",
   "version": "3.8.10",
   "mimetype": "text/x-python",
   "codemirror_mode": {
    "name": "ipython",
    "version": 3
   },
   "pygments_lexer": "ipython3",
   "nbconvert_exporter": "python",
   "file_extension": ".py"
  },
  "kernelspec": {
   "name": "python3",
   "display_name": "Python 3.8.10 64-bit ('pyob': conda)"
  },
  "interpreter": {
   "hash": "3ddc9e21434b9ecfc9606e2895f7b76f8a1b37fd62762479223a6dfb4d4d2023"
  }
 },
 "nbformat": 4,
 "nbformat_minor": 2
}